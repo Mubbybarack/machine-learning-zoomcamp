{
 "cells": [
  {
   "cell_type": "code",
   "execution_count": 1,
   "id": "882fe848-8bda-4639-a00b-0732fedce010",
   "metadata": {},
   "outputs": [],
   "source": [
    "import pandas as pd\n",
    "import numpy as np"
   ]
  },
  {
   "cell_type": "code",
   "execution_count": 2,
   "id": "5edb3743-2e9b-42f5-89ff-997093a8e7f2",
   "metadata": {},
   "outputs": [
    {
     "name": "stdout",
     "output_type": "stream",
     "text": [
      "--2025-08-12 03:16:38--  https://raw.githubusercontent.com/alexeygrigorev/datasets/master/laptops.csv\n",
      "Resolving raw.githubusercontent.com (raw.githubusercontent.com)... 185.199.110.133, 185.199.111.133, 185.199.108.133, ...\n",
      "Connecting to raw.githubusercontent.com (raw.githubusercontent.com)|185.199.110.133|:443... connected.\n",
      "HTTP request sent, awaiting response... 200 OK\n",
      "Length: 298573 (292K) [text/plain]\n",
      "Saving to: ‘laptops.csv.1’\n",
      "\n",
      "laptops.csv.1       100%[===================>] 291.58K  --.-KB/s    in 0.02s   \n",
      "\n",
      "2025-08-12 03:16:38 (16.6 MB/s) - ‘laptops.csv.1’ saved [298573/298573]\n",
      "\n"
     ]
    }
   ],
   "source": [
    "data = 'https://raw.githubusercontent.com/alexeygrigorev/datasets/master/laptops.csv'\n",
    "!wget $data"
   ]
  },
  {
   "cell_type": "code",
   "execution_count": 3,
   "id": "81604de7-a2d1-4d29-81df-16f9c3e7434c",
   "metadata": {},
   "outputs": [],
   "source": [
    "df = pd.read_csv('laptops.csv')"
   ]
  },
  {
   "cell_type": "code",
   "execution_count": 4,
   "id": "7b50eb73-fd4d-4cf2-8969-268def7bac07",
   "metadata": {},
   "outputs": [
    {
     "data": {
      "text/html": [
       "<div>\n",
       "<style scoped>\n",
       "    .dataframe tbody tr th:only-of-type {\n",
       "        vertical-align: middle;\n",
       "    }\n",
       "\n",
       "    .dataframe tbody tr th {\n",
       "        vertical-align: top;\n",
       "    }\n",
       "\n",
       "    .dataframe thead th {\n",
       "        text-align: right;\n",
       "    }\n",
       "</style>\n",
       "<table border=\"1\" class=\"dataframe\">\n",
       "  <thead>\n",
       "    <tr style=\"text-align: right;\">\n",
       "      <th></th>\n",
       "      <th>Laptop</th>\n",
       "      <th>Status</th>\n",
       "      <th>Brand</th>\n",
       "      <th>Model</th>\n",
       "      <th>CPU</th>\n",
       "      <th>RAM</th>\n",
       "      <th>Storage</th>\n",
       "      <th>Storage type</th>\n",
       "      <th>GPU</th>\n",
       "      <th>Screen</th>\n",
       "      <th>Touch</th>\n",
       "      <th>Final Price</th>\n",
       "    </tr>\n",
       "  </thead>\n",
       "  <tbody>\n",
       "    <tr>\n",
       "      <th>0</th>\n",
       "      <td>ASUS ExpertBook B1 B1502CBA-EJ0436X Intel Core...</td>\n",
       "      <td>New</td>\n",
       "      <td>Asus</td>\n",
       "      <td>ExpertBook</td>\n",
       "      <td>Intel Core i5</td>\n",
       "      <td>8</td>\n",
       "      <td>512</td>\n",
       "      <td>SSD</td>\n",
       "      <td>NaN</td>\n",
       "      <td>15.6</td>\n",
       "      <td>No</td>\n",
       "      <td>1009.00</td>\n",
       "    </tr>\n",
       "    <tr>\n",
       "      <th>1</th>\n",
       "      <td>Alurin Go Start Intel Celeron N4020/8GB/256GB ...</td>\n",
       "      <td>New</td>\n",
       "      <td>Alurin</td>\n",
       "      <td>Go</td>\n",
       "      <td>Intel Celeron</td>\n",
       "      <td>8</td>\n",
       "      <td>256</td>\n",
       "      <td>SSD</td>\n",
       "      <td>NaN</td>\n",
       "      <td>15.6</td>\n",
       "      <td>No</td>\n",
       "      <td>299.00</td>\n",
       "    </tr>\n",
       "    <tr>\n",
       "      <th>2</th>\n",
       "      <td>ASUS ExpertBook B1 B1502CBA-EJ0424X Intel Core...</td>\n",
       "      <td>New</td>\n",
       "      <td>Asus</td>\n",
       "      <td>ExpertBook</td>\n",
       "      <td>Intel Core i3</td>\n",
       "      <td>8</td>\n",
       "      <td>256</td>\n",
       "      <td>SSD</td>\n",
       "      <td>NaN</td>\n",
       "      <td>15.6</td>\n",
       "      <td>No</td>\n",
       "      <td>789.00</td>\n",
       "    </tr>\n",
       "    <tr>\n",
       "      <th>3</th>\n",
       "      <td>MSI Katana GF66 12UC-082XES Intel Core i7-1270...</td>\n",
       "      <td>New</td>\n",
       "      <td>MSI</td>\n",
       "      <td>Katana</td>\n",
       "      <td>Intel Core i7</td>\n",
       "      <td>16</td>\n",
       "      <td>1000</td>\n",
       "      <td>SSD</td>\n",
       "      <td>RTX 3050</td>\n",
       "      <td>15.6</td>\n",
       "      <td>No</td>\n",
       "      <td>1199.00</td>\n",
       "    </tr>\n",
       "    <tr>\n",
       "      <th>4</th>\n",
       "      <td>HP 15S-FQ5085NS Intel Core i5-1235U/16GB/512GB...</td>\n",
       "      <td>New</td>\n",
       "      <td>HP</td>\n",
       "      <td>15S</td>\n",
       "      <td>Intel Core i5</td>\n",
       "      <td>16</td>\n",
       "      <td>512</td>\n",
       "      <td>SSD</td>\n",
       "      <td>NaN</td>\n",
       "      <td>15.6</td>\n",
       "      <td>No</td>\n",
       "      <td>669.01</td>\n",
       "    </tr>\n",
       "  </tbody>\n",
       "</table>\n",
       "</div>"
      ],
      "text/plain": [
       "                                              Laptop Status   Brand  \\\n",
       "0  ASUS ExpertBook B1 B1502CBA-EJ0436X Intel Core...    New    Asus   \n",
       "1  Alurin Go Start Intel Celeron N4020/8GB/256GB ...    New  Alurin   \n",
       "2  ASUS ExpertBook B1 B1502CBA-EJ0424X Intel Core...    New    Asus   \n",
       "3  MSI Katana GF66 12UC-082XES Intel Core i7-1270...    New     MSI   \n",
       "4  HP 15S-FQ5085NS Intel Core i5-1235U/16GB/512GB...    New      HP   \n",
       "\n",
       "        Model            CPU  RAM  Storage Storage type       GPU  Screen  \\\n",
       "0  ExpertBook  Intel Core i5    8      512          SSD       NaN    15.6   \n",
       "1          Go  Intel Celeron    8      256          SSD       NaN    15.6   \n",
       "2  ExpertBook  Intel Core i3    8      256          SSD       NaN    15.6   \n",
       "3      Katana  Intel Core i7   16     1000          SSD  RTX 3050    15.6   \n",
       "4         15S  Intel Core i5   16      512          SSD       NaN    15.6   \n",
       "\n",
       "  Touch  Final Price  \n",
       "0    No      1009.00  \n",
       "1    No       299.00  \n",
       "2    No       789.00  \n",
       "3    No      1199.00  \n",
       "4    No       669.01  "
      ]
     },
     "execution_count": 4,
     "metadata": {},
     "output_type": "execute_result"
    }
   ],
   "source": [
    "df.head()"
   ]
  },
  {
   "cell_type": "code",
   "execution_count": 5,
   "id": "bf5cb7ba-a34c-447c-96af-f86dc1d16c25",
   "metadata": {},
   "outputs": [
    {
     "data": {
      "text/plain": [
       "Index(['Laptop', 'Status', 'Brand', 'Model', 'CPU', 'RAM', 'Storage',\n",
       "       'Storage type', 'GPU', 'Screen', 'Touch', 'Final Price'],\n",
       "      dtype='object')"
      ]
     },
     "execution_count": 5,
     "metadata": {},
     "output_type": "execute_result"
    }
   ],
   "source": [
    "df.columns"
   ]
  },
  {
   "cell_type": "code",
   "execution_count": 6,
   "id": "94182a92-62ae-4e1e-81ef-840d85b0d1ab",
   "metadata": {},
   "outputs": [
    {
     "data": {
      "text/plain": [
       "Laptop           object\n",
       "Status           object\n",
       "Brand            object\n",
       "Model            object\n",
       "CPU              object\n",
       "RAM               int64\n",
       "Storage           int64\n",
       "Storage type     object\n",
       "GPU              object\n",
       "Screen          float64\n",
       "Touch            object\n",
       "Final Price     float64\n",
       "dtype: object"
      ]
     },
     "execution_count": 6,
     "metadata": {},
     "output_type": "execute_result"
    }
   ],
   "source": [
    "df.dtypes"
   ]
  },
  {
   "cell_type": "code",
   "execution_count": 7,
   "id": "241d40cd-9d93-4662-8aed-2f04efaff98c",
   "metadata": {},
   "outputs": [
    {
     "data": {
      "text/plain": [
       "Laptop             0\n",
       "Status             0\n",
       "Brand              0\n",
       "Model              0\n",
       "CPU                0\n",
       "RAM                0\n",
       "Storage            0\n",
       "Storage type      42\n",
       "GPU             1371\n",
       "Screen             4\n",
       "Touch              0\n",
       "Final Price        0\n",
       "dtype: int64"
      ]
     },
     "execution_count": 7,
     "metadata": {},
     "output_type": "execute_result"
    }
   ],
   "source": [
    "df.isnull().sum()"
   ]
  },
  {
   "cell_type": "code",
   "execution_count": 8,
   "id": "8d9ec3ae-8b59-40c3-ab17-e7ba44b92c25",
   "metadata": {},
   "outputs": [
    {
     "data": {
      "text/plain": [
       "Laptop          2160\n",
       "Status             2\n",
       "Brand             27\n",
       "Model            121\n",
       "CPU               28\n",
       "RAM                9\n",
       "Storage           12\n",
       "Storage type       2\n",
       "GPU               44\n",
       "Screen            29\n",
       "Touch              2\n",
       "Final Price     1440\n",
       "dtype: int64"
      ]
     },
     "execution_count": 8,
     "metadata": {},
     "output_type": "execute_result"
    }
   ],
   "source": [
    "df.nunique()"
   ]
  },
  {
   "cell_type": "code",
   "execution_count": 9,
   "id": "ce8506ca-b897-481b-b2fa-d5750fe8cdce",
   "metadata": {},
   "outputs": [
    {
     "data": {
      "text/plain": [
       "RangeIndex(start=0, stop=2160, step=1)"
      ]
     },
     "execution_count": 9,
     "metadata": {},
     "output_type": "execute_result"
    }
   ],
   "source": [
    "df.index"
   ]
  },
  {
   "cell_type": "code",
   "execution_count": 10,
   "id": "02e5be38-9416-4f51-87f7-ace5743f1823",
   "metadata": {},
   "outputs": [
    {
     "data": {
      "text/plain": [
       "<Axes: xlabel='Final Price', ylabel='Count'>"
      ]
     },
     "execution_count": 10,
     "metadata": {},
     "output_type": "execute_result"
    },
    {
     "data": {
      "image/png": "[encoded data removed]",
      "text/plain": [
       "<Figure size 640x480 with 1 Axes>"
      ]
     },
     "metadata": {},
     "output_type": "display_data"
    }
   ],
   "source": [
    "import seaborn as sns\n",
    "sns.histplot(df['Final Price'], bins=50)"
   ]
  },
  {
   "cell_type": "code",
   "execution_count": 11,
   "id": "dc2d76b7-f752-4f2e-b591-595d1251fe3d",
   "metadata": {},
   "outputs": [
    {
     "data": {
      "text/plain": [
       "Index(['laptop', 'status', 'brand', 'model', 'cpu', 'ram', 'storage',\n",
       "       'storage_type', 'gpu', 'screen', 'touch', 'final_price'],\n",
       "      dtype='object')"
      ]
     },
     "execution_count": 11,
     "metadata": {},
     "output_type": "execute_result"
    }
   ],
   "source": [
    "df.columns = df.columns.str.lower().str.replace(' ','_')\n",
    "df.columns"
   ]
  },
  {
   "cell_type": "code",
   "execution_count": 12,
   "id": "099dbf7d-2069-47f0-b54f-69f6efe14ada",
   "metadata": {},
   "outputs": [
    {
     "data": {
      "text/plain": [
       "laptop           object\n",
       "status           object\n",
       "brand            object\n",
       "model            object\n",
       "cpu              object\n",
       "ram               int64\n",
       "storage           int64\n",
       "storage_type     object\n",
       "gpu              object\n",
       "screen          float64\n",
       "touch            object\n",
       "final_price     float64\n",
       "dtype: object"
      ]
     },
     "execution_count": 12,
     "metadata": {},
     "output_type": "execute_result"
    }
   ],
   "source": [
    "df.dtypes"
   ]
  },
  {
   "cell_type": "code",
   "execution_count": 13,
   "id": "e8c29c35-1073-4c6b-bedf-2c81bab4d47e",
   "metadata": {},
   "outputs": [
    {
     "data": {
      "text/plain": [
       "['laptop', 'status', 'brand', 'model', 'cpu', 'storage_type', 'gpu', 'touch']"
      ]
     },
     "execution_count": 13,
     "metadata": {},
     "output_type": "execute_result"
    }
   ],
   "source": [
    "strings = list(df.dtypes[df.dtypes == 'object'].index)\n",
    "strings"
   ]
  },
  {
   "cell_type": "code",
   "execution_count": 14,
   "id": "b316320b-8e6b-49f7-b08c-0634dbaa0b30",
   "metadata": {},
   "outputs": [],
   "source": [
    "for col in strings:\n",
    "    df[col] = df[col].str.lower().str.replace(' ','_')"
   ]
  },
  {
   "cell_type": "code",
   "execution_count": 15,
   "id": "ed633d99-7192-47c7-8aae-5adf18153811",
   "metadata": {},
   "outputs": [
    {
     "data": {
      "text/html": [
       "<div>\n",
       "<style scoped>\n",
       "    .dataframe tbody tr th:only-of-type {\n",
       "        vertical-align: middle;\n",
       "    }\n",
       "\n",
       "    .dataframe tbody tr th {\n",
       "        vertical-align: top;\n",
       "    }\n",
       "\n",
       "    .dataframe thead th {\n",
       "        text-align: right;\n",
       "    }\n",
       "</style>\n",
       "<table border=\"1\" class=\"dataframe\">\n",
       "  <thead>\n",
       "    <tr style=\"text-align: right;\">\n",
       "      <th></th>\n",
       "      <th>laptop</th>\n",
       "      <th>status</th>\n",
       "      <th>brand</th>\n",
       "      <th>model</th>\n",
       "      <th>cpu</th>\n",
       "      <th>ram</th>\n",
       "      <th>storage</th>\n",
       "      <th>storage_type</th>\n",
       "      <th>gpu</th>\n",
       "      <th>screen</th>\n",
       "      <th>touch</th>\n",
       "      <th>final_price</th>\n",
       "    </tr>\n",
       "  </thead>\n",
       "  <tbody>\n",
       "    <tr>\n",
       "      <th>0</th>\n",
       "      <td>asus_expertbook_b1_b1502cba-ej0436x_intel_core...</td>\n",
       "      <td>new</td>\n",
       "      <td>asus</td>\n",
       "      <td>expertbook</td>\n",
       "      <td>intel_core_i5</td>\n",
       "      <td>8</td>\n",
       "      <td>512</td>\n",
       "      <td>ssd</td>\n",
       "      <td>NaN</td>\n",
       "      <td>15.6</td>\n",
       "      <td>no</td>\n",
       "      <td>1009.00</td>\n",
       "    </tr>\n",
       "    <tr>\n",
       "      <th>1</th>\n",
       "      <td>alurin_go_start_intel_celeron_n4020/8gb/256gb_...</td>\n",
       "      <td>new</td>\n",
       "      <td>alurin</td>\n",
       "      <td>go</td>\n",
       "      <td>intel_celeron</td>\n",
       "      <td>8</td>\n",
       "      <td>256</td>\n",
       "      <td>ssd</td>\n",
       "      <td>NaN</td>\n",
       "      <td>15.6</td>\n",
       "      <td>no</td>\n",
       "      <td>299.00</td>\n",
       "    </tr>\n",
       "    <tr>\n",
       "      <th>2</th>\n",
       "      <td>asus_expertbook_b1_b1502cba-ej0424x_intel_core...</td>\n",
       "      <td>new</td>\n",
       "      <td>asus</td>\n",
       "      <td>expertbook</td>\n",
       "      <td>intel_core_i3</td>\n",
       "      <td>8</td>\n",
       "      <td>256</td>\n",
       "      <td>ssd</td>\n",
       "      <td>NaN</td>\n",
       "      <td>15.6</td>\n",
       "      <td>no</td>\n",
       "      <td>789.00</td>\n",
       "    </tr>\n",
       "    <tr>\n",
       "      <th>3</th>\n",
       "      <td>msi_katana_gf66_12uc-082xes_intel_core_i7-1270...</td>\n",
       "      <td>new</td>\n",
       "      <td>msi</td>\n",
       "      <td>katana</td>\n",
       "      <td>intel_core_i7</td>\n",
       "      <td>16</td>\n",
       "      <td>1000</td>\n",
       "      <td>ssd</td>\n",
       "      <td>rtx_3050</td>\n",
       "      <td>15.6</td>\n",
       "      <td>no</td>\n",
       "      <td>1199.00</td>\n",
       "    </tr>\n",
       "    <tr>\n",
       "      <th>4</th>\n",
       "      <td>hp_15s-fq5085ns_intel_core_i5-1235u/16gb/512gb...</td>\n",
       "      <td>new</td>\n",
       "      <td>hp</td>\n",
       "      <td>15s</td>\n",
       "      <td>intel_core_i5</td>\n",
       "      <td>16</td>\n",
       "      <td>512</td>\n",
       "      <td>ssd</td>\n",
       "      <td>NaN</td>\n",
       "      <td>15.6</td>\n",
       "      <td>no</td>\n",
       "      <td>669.01</td>\n",
       "    </tr>\n",
       "  </tbody>\n",
       "</table>\n",
       "</div>"
      ],
      "text/plain": [
       "                                              laptop status   brand  \\\n",
       "0  asus_expertbook_b1_b1502cba-ej0436x_intel_core...    new    asus   \n",
       "1  alurin_go_start_intel_celeron_n4020/8gb/256gb_...    new  alurin   \n",
       "2  asus_expertbook_b1_b1502cba-ej0424x_intel_core...    new    asus   \n",
       "3  msi_katana_gf66_12uc-082xes_intel_core_i7-1270...    new     msi   \n",
       "4  hp_15s-fq5085ns_intel_core_i5-1235u/16gb/512gb...    new      hp   \n",
       "\n",
       "        model            cpu  ram  storage storage_type       gpu  screen  \\\n",
       "0  expertbook  intel_core_i5    8      512          ssd       NaN    15.6   \n",
       "1          go  intel_celeron    8      256          ssd       NaN    15.6   \n",
       "2  expertbook  intel_core_i3    8      256          ssd       NaN    15.6   \n",
       "3      katana  intel_core_i7   16     1000          ssd  rtx_3050    15.6   \n",
       "4         15s  intel_core_i5   16      512          ssd       NaN    15.6   \n",
       "\n",
       "  touch  final_price  \n",
       "0    no      1009.00  \n",
       "1    no       299.00  \n",
       "2    no       789.00  \n",
       "3    no      1199.00  \n",
       "4    no       669.01  "
      ]
     },
     "execution_count": 15,
     "metadata": {},
     "output_type": "execute_result"
    }
   ],
   "source": [
    "df.head()"
   ]
  },
  {
   "cell_type": "code",
   "execution_count": 16,
   "id": "d0861600-0e0f-44aa-ac1b-36f0883d19ac",
   "metadata": {},
   "outputs": [
    {
     "data": {
      "text/plain": [
       "ram            0\n",
       "storage        0\n",
       "screen         4\n",
       "final_price    0\n",
       "dtype: int64"
      ]
     },
     "execution_count": 16,
     "metadata": {},
     "output_type": "execute_result"
    }
   ],
   "source": [
    "features = ['ram', 'storage', 'screen', 'final_price']\n",
    "df[features].isnull().sum()"
   ]
  },
  {
   "cell_type": "code",
   "execution_count": 17,
   "id": "6c8f96c8-e866-49e9-975f-659c6f307e44",
   "metadata": {},
   "outputs": [
    {
     "data": {
      "text/plain": [
       "np.float64(16.0)"
      ]
     },
     "execution_count": 17,
     "metadata": {},
     "output_type": "execute_result"
    }
   ],
   "source": [
    "df.ram.median()"
   ]
  },
  {
   "cell_type": "code",
   "execution_count": 18,
   "id": "631496af-02d4-4562-ad86-e925c9f5e547",
   "metadata": {},
   "outputs": [],
   "source": [
    "df_flt = df[features]\n",
    "n = len(df_flt)\n",
    "idx = np.arange(n)"
   ]
  },
  {
   "cell_type": "code",
   "execution_count": 19,
   "id": "d39ca1b0-c676-40ea-b367-8b32c27a69ba",
   "metadata": {},
   "outputs": [
    {
     "data": {
      "text/plain": [
       "array([2079,  668, 2073, ..., 1130, 1294,  860], shape=(2160,))"
      ]
     },
     "execution_count": 19,
     "metadata": {},
     "output_type": "execute_result"
    }
   ],
   "source": [
    "np.random.seed(42)\n",
    "np.random.shuffle(idx)\n",
    "idx"
   ]
  },
  {
   "cell_type": "code",
   "execution_count": 20,
   "id": "e110b3bb-d30a-45bf-89ff-8f8411121a17",
   "metadata": {},
   "outputs": [],
   "source": [
    "df_flt.index = idx\n",
    "df_flt = df_flt.reset_index(drop=True)"
   ]
  },
  {
   "cell_type": "code",
   "execution_count": 21,
   "id": "0f448b94-3005-434c-b9cf-7b859a1d4f82",
   "metadata": {},
   "outputs": [],
   "source": [
    "n_test = int(n * 0.2)\n",
    "n_val = int(n * 0.2)\n",
    "n_train = n - n_test - n_val"
   ]
  },
  {
   "cell_type": "code",
   "execution_count": 22,
   "id": "6ca65368-3e17-4309-b7f5-438dc224fcb4",
   "metadata": {},
   "outputs": [],
   "source": [
    "df_test = df_flt[:n_test]\n",
    "df_val = df_flt[n_test : n_test + n_val]\n",
    "df_train = df_flt[n_test+n_val:]"
   ]
  },
  {
   "cell_type": "code",
   "execution_count": 23,
   "id": "9081f807-a3d8-4bcd-8824-827e1ae665b9",
   "metadata": {},
   "outputs": [],
   "source": [
    "df_val = df_val.reset_index(drop=True)\n",
    "df_train = df_train.reset_index(drop=True)"
   ]
  },
  {
   "cell_type": "code",
   "execution_count": 24,
   "id": "17bf924c-61ea-43a0-a94b-69cc0836bb91",
   "metadata": {},
   "outputs": [
    {
     "data": {
      "text/plain": [
       "2160"
      ]
     },
     "execution_count": 24,
     "metadata": {},
     "output_type": "execute_result"
    }
   ],
   "source": [
    "len(df_train) + len(df_val) + len(df_test)"
   ]
  },
  {
   "cell_type": "code",
   "execution_count": 25,
   "id": "32171566-6795-4236-8695-f6c5166f7821",
   "metadata": {},
   "outputs": [
    {
     "data": {
      "text/html": [
       "<div>\n",
       "<style scoped>\n",
       "    .dataframe tbody tr th:only-of-type {\n",
       "        vertical-align: middle;\n",
       "    }\n",
       "\n",
       "    .dataframe tbody tr th {\n",
       "        vertical-align: top;\n",
       "    }\n",
       "\n",
       "    .dataframe thead th {\n",
       "        text-align: right;\n",
       "    }\n",
       "</style>\n",
       "<table border=\"1\" class=\"dataframe\">\n",
       "  <thead>\n",
       "    <tr style=\"text-align: right;\">\n",
       "      <th></th>\n",
       "      <th>ram</th>\n",
       "      <th>storage</th>\n",
       "      <th>screen</th>\n",
       "      <th>final_price</th>\n",
       "    </tr>\n",
       "  </thead>\n",
       "  <tbody>\n",
       "    <tr>\n",
       "      <th>0</th>\n",
       "      <td>32</td>\n",
       "      <td>1000</td>\n",
       "      <td>17.3</td>\n",
       "      <td>2649.44</td>\n",
       "    </tr>\n",
       "    <tr>\n",
       "      <th>1</th>\n",
       "      <td>16</td>\n",
       "      <td>512</td>\n",
       "      <td>14.0</td>\n",
       "      <td>846.31</td>\n",
       "    </tr>\n",
       "    <tr>\n",
       "      <th>2</th>\n",
       "      <td>8</td>\n",
       "      <td>512</td>\n",
       "      <td>15.6</td>\n",
       "      <td>414.84</td>\n",
       "    </tr>\n",
       "    <tr>\n",
       "      <th>3</th>\n",
       "      <td>8</td>\n",
       "      <td>256</td>\n",
       "      <td>15.6</td>\n",
       "      <td>399.37</td>\n",
       "    </tr>\n",
       "    <tr>\n",
       "      <th>4</th>\n",
       "      <td>16</td>\n",
       "      <td>512</td>\n",
       "      <td>15.6</td>\n",
       "      <td>1069.00</td>\n",
       "    </tr>\n",
       "  </tbody>\n",
       "</table>\n",
       "</div>"
      ],
      "text/plain": [
       "   ram  storage  screen  final_price\n",
       "0   32     1000    17.3      2649.44\n",
       "1   16      512    14.0       846.31\n",
       "2    8      512    15.6       414.84\n",
       "3    8      256    15.6       399.37\n",
       "4   16      512    15.6      1069.00"
      ]
     },
     "execution_count": 25,
     "metadata": {},
     "output_type": "execute_result"
    }
   ],
   "source": [
    "df_train.head()"
   ]
  },
  {
   "cell_type": "code",
   "execution_count": 26,
   "id": "263936a1-2d9a-4961-afa9-3b7cba9ba0f6",
   "metadata": {},
   "outputs": [],
   "source": [
    "y_train = np.log1p(df_train.final_price.values)\n",
    "del df_train['final_price']\n"
   ]
  },
  {
   "cell_type": "code",
   "execution_count": 30,
   "id": "1f355980-9387-4281-89d2-6d3b23c94111",
   "metadata": {},
   "outputs": [
    {
     "data": {
      "text/plain": [
       "<Axes: ylabel='Count'>"
      ]
     },
     "execution_count": 30,
     "metadata": {},
     "output_type": "execute_result"
    },
    {
     "data": {
      "image/png": "[encoded data removed]",
      "text/plain": [
       "<Figure size 640x480 with 1 Axes>"
      ]
     },
     "metadata": {},
     "output_type": "display_data"
    }
   ],
   "source": [
    "sns.histplot(y_train)"
   ]
  },
  {
   "cell_type": "code",
   "execution_count": 31,
   "id": "40250f56-a42b-471a-8e64-181e8b5f23cd",
   "metadata": {},
   "outputs": [],
   "source": [
    "df_train_a = {}\n",
    "df_train_b = {}\n",
    "\n",
    "for col in df_train.columns:\n",
    "    df_train_a[col] = df_train[col].fillna(0)\n",
    "    df_train_b[col] = df_train[col].fillna(df_train[col].mean)\n",
    "\n",
    "df_train_a = pd.DataFrame(df_train_a)\n",
    "df_train_b = pd.DataFrame(df_train_b)\n"
   ]
  },
  {
   "cell_type": "code",
   "execution_count": 35,
   "id": "dcd0af25-808e-4e2a-8a4a-855fad86928f",
   "metadata": {},
   "outputs": [
    {
     "name": "stdout",
     "output_type": "stream",
     "text": [
      "ram\n",
      "8\n",
      "[32 16  8  4 12]\n",
      "storage\n",
      "11\n",
      "[1000  512  256  128   64]\n",
      "screen\n",
      "26\n",
      "[17.3 14.  15.6 11.6 16.2]\n"
     ]
    }
   ],
   "source": [
    "for col in df_train.columns:\n",
    "    print(col)\n",
    "    print(df_train[col].nunique())\n",
    "    print(df_train[col].unique()[:5])"
   ]
  },
  {
   "cell_type": "code",
   "execution_count": 47,
   "id": "79838ba7-b824-4d98-a835-b01709f06bc7",
   "metadata": {},
   "outputs": [
    {
     "data": {
      "text/plain": [
       "[16, 8, 32, 4, 64]"
      ]
     },
     "execution_count": 47,
     "metadata": {},
     "output_type": "execute_result"
    }
   ],
   "source": [
    "list(df_train.ram.value_counts().head().index)"
   ]
  },
  {
   "cell_type": "code",
   "execution_count": 52,
   "id": "38595107-9e13-4c70-9a77-ea5472e676c2",
   "metadata": {},
   "outputs": [
    {
     "data": {
      "text/plain": [
       "[np.int64(32), np.int64(16), np.int64(8), np.int64(4), np.int64(12)]"
      ]
     },
     "execution_count": 52,
     "metadata": {},
     "output_type": "execute_result"
    }
   ],
   "source": [
    "list(df_train.ram.unique()[:5])"
   ]
  },
  {
   "cell_type": "code",
   "execution_count": 45,
   "id": "98c24fd4-058b-4a97-b019-f2e8a2a192d5",
   "metadata": {},
   "outputs": [],
   "source": [
    "categorical = {}\n",
    "\n",
    "for c in df_train.columns:\n",
    "    categorical[c] = list(df_train[c].value_counts().head().index)"
   ]
  },
  {
   "cell_type": "code",
   "execution_count": null,
   "id": "7cda577c-e5ca-4f8b-815f-9aff2c9b3f81",
   "metadata": {},
   "outputs": [],
   "source": []
  }
 ],
 "metadata": {
  "kernelspec": {
   "display_name": "Python 3 (ipykernel)",
   "language": "python",
   "name": "python3"
  },
  "language_info": {
   "codemirror_mode": {
    "name": "ipython",
    "version": 3
   },
   "file_extension": ".py",
   "mimetype": "text/x-python",
   "name": "python",
   "nbconvert_exporter": "python",
   "pygments_lexer": "ipython3",
   "version": "3.12.1"
  }
 },
 "nbformat": 4,
 "nbformat_minor": 5
}
